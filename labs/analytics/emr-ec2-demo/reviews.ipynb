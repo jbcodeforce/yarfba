{
 "cells": [
  {
   "cell_type": "code",
   "execution_count": null,
   "id": "0db0d844-4041-461b-bf63-31bce50dff79",
   "metadata": {
    "tags": []
   },
   "outputs": [],
   "source": [
    "## In this exercise we will read data from a json file stored in s3 bucket. \n",
    "## We then analyze the data set to determine \n",
    "## 1. Number of reviews each product category received based on star rating. \n",
    "## 2. Product categories that received the highest number of reviews  "
   ]
  },
  {
   "cell_type": "code",
   "execution_count": null,
   "id": "8a70c138-a048-4542-a3ed-72b7c8ea2bc8",
   "metadata": {},
   "outputs": [],
   "source": [
    "import sys\n",
    "from datetime import datetime\n",
    "from pyspark.sql import SparkSession\n",
    "from pyspark.sql.functions import * "
   ]
  },
  {
   "cell_type": "code",
   "execution_count": null,
   "id": "97b118dc-0931-4f71-9942-a72b683339cb",
   "metadata": {},
   "outputs": [],
   "source": [
    "## Change the s3 bucket name in the cell below"
   ]
  },
  {
   "cell_type": "code",
   "execution_count": null,
   "id": "dcfe531d-42b7-4a55-8a39-bf0d3ada7d7c",
   "metadata": {},
   "outputs": [],
   "source": [
    "dataset=\"s3://emrstudio4885/input/dataset_en_dev.json\""
   ]
  },
  {
   "cell_type": "code",
   "execution_count": null,
   "id": "1f9bfa3e-c83b-43fa-bbaf-d5286734637f",
   "metadata": {
    "tags": []
   },
   "outputs": [],
   "source": [
    "reviews = spark.read.json(dataset)"
   ]
  },
  {
   "cell_type": "code",
   "execution_count": null,
   "id": "5a66ad56-621a-48f1-a6a4-63fefea21e5f",
   "metadata": {},
   "outputs": [],
   "source": [
    "## View sample data from the data frame"
   ]
  },
  {
   "cell_type": "code",
   "execution_count": null,
   "id": "b16419e6-f5b5-4a9d-9842-31205c8d13ce",
   "metadata": {},
   "outputs": [],
   "source": [
    "reviews.show(1)"
   ]
  },
  {
   "cell_type": "code",
   "execution_count": null,
   "id": "8add67ae-7603-4022-be41-962be1ebf1a3",
   "metadata": {},
   "outputs": [],
   "source": [
    "## Save the dataframe as a temporary view named \"reviews\""
   ]
  },
  {
   "cell_type": "code",
   "execution_count": null,
   "id": "7cf2a658-30e8-40e1-a8c8-a39d9f34aa49",
   "metadata": {
    "tags": []
   },
   "outputs": [],
   "source": [
    "reviews.createOrReplaceTempView('reviews')"
   ]
  },
  {
   "cell_type": "code",
   "execution_count": null,
   "id": "83acb059-fc07-4071-83c2-88c659396170",
   "metadata": {},
   "outputs": [],
   "source": [
    "# Analyze dataset to determine number of reviews each product category received based on star rating."
   ]
  },
  {
   "cell_type": "code",
   "execution_count": null,
   "id": "f068ecaf-532b-44b5-a02d-571706bb5fbb",
   "metadata": {
    "tags": []
   },
   "outputs": [],
   "source": [
    "reviews_by_productcategory=spark.sql(\"select  product_category, stars , count(*) as number_of_reviews from reviews group by product_category , stars order by product_category, stars \")"
   ]
  },
  {
   "cell_type": "code",
   "execution_count": null,
   "id": "fbd19f59-a783-4f10-a035-fe17a9ba953b",
   "metadata": {},
   "outputs": [],
   "source": [
    "## view the output of the Spark Sql"
   ]
  },
  {
   "cell_type": "code",
   "execution_count": null,
   "id": "b2cd1d51-c971-40b1-a2bd-91b4e58af1f5",
   "metadata": {},
   "outputs": [],
   "source": [
    "reviews_by_productcategory.show()"
   ]
  },
  {
   "cell_type": "code",
   "execution_count": null,
   "id": "a73e6e66-f533-4c37-9c5a-bbc8d96853da",
   "metadata": {},
   "outputs": [],
   "source": [
    "## Change the s3 bucket name in the cell below"
   ]
  },
  {
   "cell_type": "code",
   "execution_count": null,
   "id": "94e54baa-822b-46d9-af9f-23778ae5cb78",
   "metadata": {},
   "outputs": [],
   "source": [
    "reviews_by_productcategory.write.mode(\"OVERWRITE\").parquet(\"s3://emrstudio4885/output/analysis/reviews_by_productcategory/\")"
   ]
  },
  {
   "cell_type": "code",
   "execution_count": null,
   "id": "79f8e419-b363-42e9-89f8-62adfbee23be",
   "metadata": {},
   "outputs": [],
   "source": [
    "# Analyze dataset to determine Product categories that received the highest number of reviews "
   ]
  },
  {
   "cell_type": "code",
   "execution_count": null,
   "id": "def66e6b-caff-433f-8eb3-e2534475bbfc",
   "metadata": {},
   "outputs": [],
   "source": [
    "productcategory_topreview=spark.sql(\"select  product_category, count(*) as number_of_reviews from reviews  group by product_category order by count(*) desc \")"
   ]
  },
  {
   "cell_type": "code",
   "execution_count": null,
   "id": "0746aecb-8b3c-4130-b4e6-33e56ba439cb",
   "metadata": {},
   "outputs": [],
   "source": [
    "## view the output of the Spark Sql"
   ]
  },
  {
   "cell_type": "code",
   "execution_count": null,
   "id": "0b5da126-ec36-4968-885a-387cb444f800",
   "metadata": {
    "tags": []
   },
   "outputs": [],
   "source": [
    "productcategory_topreview.show()"
   ]
  },
  {
   "cell_type": "code",
   "execution_count": null,
   "id": "1a950c23-37ba-4119-8522-f4af24f3d470",
   "metadata": {},
   "outputs": [],
   "source": [
    "## Change the s3 bucket name in the cell below"
   ]
  },
  {
   "cell_type": "code",
   "execution_count": null,
   "id": "f6af43c2-d37b-4cbf-85c4-13ba452e09c7",
   "metadata": {
    "tags": []
   },
   "outputs": [],
   "source": [
    "productcategory_topreview.write.mode(\"OVERWRITE\").parquet(\"s3://emrstudio4885/output/analysis/productcategory_topreview/\")"
   ]
  },
  {
   "cell_type": "code",
   "execution_count": null,
   "id": "09fb6880-141a-48c3-8141-6a1ce78b45c3",
   "metadata": {
    "tags": []
   },
   "outputs": [],
   "source": [
    "## Check the s3 bucket for the output files with analysis results"
   ]
  }
 ],
 "metadata": {
  "kernelspec": {
   "display_name": "PySpark",
   "language": "python",
   "name": "pysparkkernel"
  },
  "language_info": {
   "codemirror_mode": {
    "name": "python",
    "version": 3
   },
   "file_extension": ".py",
   "mimetype": "text/x-python",
   "name": "pyspark",
   "pygments_lexer": "python3"
  }
 },
 "nbformat": 4,
 "nbformat_minor": 5
}
